{
 "cells": [
  {
   "cell_type": "markdown",
   "id": "fcf249b8-61ca-432f-83f2-5f0e559e48bc",
   "metadata": {},
   "source": [
    "Q.1 Object-oriented programming (OOP) is a programming paradigm that focuses on creating objects that encapsulate data and functionality. A class is a blueprint for creating objects, while an object is an instance of a class.\n",
    "\n",
    "In OOP, a class is a user-defined data type that contains data members (fields) and member functions (methods). The data members are the attributes of the class, while the member functions are the actions or behaviors that can be performed on the class.\n",
    "\n",
    "An object, on the other hand, is a specific instance of a class. It is created based on the blueprint defined by the class and has its own set of data members and member functions.\n",
    "\n",
    "Here's an example in Python to illustrate the concept of class and object:"
   ]
  },
  {
   "cell_type": "code",
   "execution_count": 2,
   "id": "6ad328c5-df75-4bf4-b62c-a27cdf03cf9b",
   "metadata": {},
   "outputs": [
    {
     "name": "stdout",
     "output_type": "stream",
     "text": [
      "Toyota Corolla 2022\n",
      "Honda Civic 2023\n",
      "The car has started.\n",
      "The car has stopped.\n"
     ]
    }
   ],
   "source": [
    "class Car:\n",
    "    def __init__(self, make, model, year):\n",
    "        self.make = make\n",
    "        self.model = model\n",
    "        self.year = year\n",
    "\n",
    "    def start(self):\n",
    "        print(\"The car has started.\")\n",
    "\n",
    "    def stop(self):\n",
    "        print(\"The car has stopped.\")\n",
    "\n",
    "car1 = Car(\"Toyota\", \"Corolla\", 2022)\n",
    "car2 = Car(\"Honda\", \"Civic\", 2023)\n",
    "\n",
    "print(car1.make, car1.model, car1.year)  # Output: Toyota Corolla 2022\n",
    "print(car2.make, car2.model, car2.year)  # Output: Honda Civic 2023\n",
    "\n",
    "car1.start()  # Output: The car has started.\n",
    "car2.stop()  # Output: The car has stopped.\n"
   ]
  },
  {
   "cell_type": "markdown",
   "id": "829b2306-85a2-4651-9ee3-08d5bdbb0b04",
   "metadata": {},
   "source": [
    "Q.2\n",
    "The four pillars of object-oriented programming (OOP) are:\n",
    "Encapsulation, Inheritance, Polymorphism and Abstraction."
   ]
  },
  {
   "cell_type": "markdown",
   "id": "f186c7e9-b091-4a6e-9db6-b07e0c8cab44",
   "metadata": {},
   "source": [
    "Q.3 \n",
    "The __init__() function is a special method in Python classes that is used to initialize the object's properties (also known as attributes or instance variables) when the object is created. It is also known as a constructor because it is automatically called when an object is instantiated.\n",
    "\n",
    "The __init__() method is used to set the initial state of an object and assign values to its properties. It takes self as the first argument, which refers to the object being created, and any additional arguments that need to be passed to set the initial state.\n",
    "\n",
    "Here's an example to illustrate the use of __init__() method:"
   ]
  },
  {
   "cell_type": "code",
   "execution_count": 3,
   "id": "5606cf92-36f4-4ecd-83d9-88b3ed1b1537",
   "metadata": {},
   "outputs": [
    {
     "name": "stdout",
     "output_type": "stream",
     "text": [
      "Alice is 25 years old.\n",
      "Bob is 30 years old.\n"
     ]
    }
   ],
   "source": [
    "class Person:\n",
    "    def __init__(self, name, age):\n",
    "        self.name = name\n",
    "        self.age = age\n",
    "\n",
    "    def print_info(self):\n",
    "        print(f\"{self.name} is {self.age} years old.\")\n",
    "\n",
    "person1 = Person(\"Alice\", 25)\n",
    "person2 = Person(\"Bob\", 30)\n",
    "\n",
    "person1.print_info()  # Output: Alice is 25 years old.\n",
    "person2.print_info()  # Output: Bob is 30 years old.\n"
   ]
  },
  {
   "cell_type": "markdown",
   "id": "d13bdf05-d557-44a1-9b90-9c24be2aaee4",
   "metadata": {},
   "source": [
    "Q.4\n",
    "In object-oriented programming (OOP), self is a reference to the current instance of a class. It is used to access the properties and methods of the current object within the class definition.\n",
    "\n",
    "When you create an object from a class, it creates a new instance of that class with its own set of attributes and methods. The self parameter is used to refer to the current instance of the class, which allows you to access and modify its attributes and call its methods.\n",
    "\n",
    "For example, let's consider the following class:"
   ]
  },
  {
   "cell_type": "code",
   "execution_count": 4,
   "id": "b559792d-8557-42aa-a5ba-17212af14c01",
   "metadata": {},
   "outputs": [
    {
     "name": "stdout",
     "output_type": "stream",
     "text": [
      "Hello, my name is Alice.\n"
     ]
    }
   ],
   "source": [
    "class Person:\n",
    "    def __init__(self, name):\n",
    "        self.name = name\n",
    "\n",
    "    def say_hello(self):\n",
    "        print(f\"Hello, my name is {self.name}.\")\n",
    "\n",
    "person1 = Person(\"Alice\")\n",
    "person1.say_hello()  # Output: Hello, my name is Alice."
   ]
  },
  {
   "cell_type": "markdown",
   "id": "ecee4209-a34f-48bf-84b6-8685e127a9a8",
   "metadata": {},
   "source": [
    "Q.5\n",
    "Inheritance is a fundamental concept in object-oriented programming (OOP) that allows one class (the subclass or derived class) to inherit the properties and methods of another class (the superclass or base class). Inheritance is a mechanism for code reuse and helps to create a hierarchical relationship between classes.\n"
   ]
  },
  {
   "cell_type": "code",
   "execution_count": null,
   "id": "c7ea20de-0152-4c20-9b3d-1d0e8a5b7b3c",
   "metadata": {},
   "outputs": [],
   "source": [
    "\"\"\"Single inheritance: In single inheritance, a subclass inherits from a single superclass. This is the most common type of inheritance.\n",
    "Example\"\"\"\n",
    "class Animal:\n",
    "    def eat(self):\n",
    "        print(\"I can eat.\")\n",
    "\n",
    "class Dog(Animal):\n",
    "    def bark(self):\n",
    "        print(\"I can bark.\")\n",
    "\n",
    "dog = Dog()\n",
    "dog.eat()   # Output: I can eat.\n",
    "dog.bark()  # Output: I can bark.\n",
    "\"\"\" Multiple inheritance: In multiple inheritance, a subclass inherits from multiple superclasses. This allows you to combine functionality from different classes into a single class.\n",
    "Example:\"\"\"\"\n",
    "class Flyable:\n",
    "    def fly(self):\n",
    "        print(\"I can fly.\")\n",
    "\n",
    "class Swimmable:\n",
    "    def swim(self):\n",
    "        print(\"I can swim.\")\n",
    "\n",
    "class Duck(Flyable, Swimmable):\n",
    "    def quack(self):\n",
    "        print(\"I can quack.\")\n",
    "\n",
    "duck = Duck()\n",
    "duck.fly()   # Output: I can fly.\n",
    "duck.swim()  # Output: I can swim.\n",
    "duck.quack() # Output: I can quack.\n",
    "\"\"\" Multi-level inheritance: In multi-level inheritance, a subclass inherits from a superclass, which in turn inherits from another superclass. This allows you to create a hierarchy of classes.\n",
    "Example:\"\"\"\"\n",
    "class Animal:\n",
    "    def eat(self):\n",
    "        print(\"I can eat.\")\n",
    "\n",
    "class Dog(Animal):\n",
    "    def bark(self):\n",
    "        print(\"I can bark.\")\n",
    "\n",
    "class Bulldog(Dog):\n",
    "    def run(self):\n",
    "        print(\"I can run.\")\n",
    "\n",
    "bulldog = Bulldog()\n",
    "bulldog.eat()  # Output: I can eat.\n",
    "bulldog.bark() # Output: I can bark.\n",
    "bulldog.run()  # Output: I can run.\n"
   ]
  }
 ],
 "metadata": {
  "kernelspec": {
   "display_name": "Python 3 (ipykernel)",
   "language": "python",
   "name": "python3"
  },
  "language_info": {
   "codemirror_mode": {
    "name": "ipython",
    "version": 3
   },
   "file_extension": ".py",
   "mimetype": "text/x-python",
   "name": "python",
   "nbconvert_exporter": "python",
   "pygments_lexer": "ipython3",
   "version": "3.10.8"
  }
 },
 "nbformat": 4,
 "nbformat_minor": 5
}
